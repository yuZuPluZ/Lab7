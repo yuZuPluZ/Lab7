{
  "nbformat": 4,
  "nbformat_minor": 0,
  "metadata": {
    "colab": {
      "provenance": [],
      "include_colab_link": true
    },
    "kernelspec": {
      "name": "python3",
      "display_name": "Python 3"
    },
    "language_info": {
      "name": "python"
    }
  },
  "cells": [
    {
      "cell_type": "markdown",
      "metadata": {
        "id": "view-in-github",
        "colab_type": "text"
      },
      "source": [
        "<a href=\"https://colab.research.google.com/github/yuZuPluZ/Lab7/blob/main/Lab_7.ipynb\" target=\"_parent\"><img src=\"https://colab.research.google.com/assets/colab-badge.svg\" alt=\"Open In Colab\"/></a>"
      ]
    },
    {
      "cell_type": "markdown",
      "source": [
        "รหัสนักศึกษา :     ชื่อ :"
      ],
      "metadata": {
        "id": "UXzLtjMa17TG"
      }
    },
    {
      "cell_type": "markdown",
      "source": [
        "1.\tเขียนฟังก์ชัน add_score(subject_score, subject, score) โดยมีพารามิเตอร์ 3 ตัว ได้แก่ subject_score เป็น dictionary ที่มีคู่ key : value เป็น subject : score พารามิเตอร์ตัวที่ 2 และ 3 เป็น subject และ score โดย subject เป็น string และ score เป็น integer โดยให้นำ subject และ score ไปเพิ่มใน dictionary เช่น\n",
        "\n",
        "-Input : subject_score = { }, subject = ‘python’, score = 50\n",
        "-return : { ‘python’ : 50 }\n",
        "-input : subject_score = { ‘python’ : 50 }, subject = ‘calculus’, score = 60\n",
        "-return : { ‘python’ : 50, ‘calculus : 60 }\n",
        "\n",
        "\n",
        "จากนั้นให้เขียนฟังก์ชัน calc_average_score หาค่าเฉลี่ยของคะแนนในทุกรายวิชาใน dictionary ที่ได้จากฟังก์ชัน add_score โดยให้ส่งค่าคืนมาเป็น string ที่มีทศนิยม 2 ตำแหน่ง\n"
      ],
      "metadata": {
        "id": "os9RES5T2DNP"
      }
    },
    {
      "cell_type": "code",
      "source": [
        "def add_score(subject_score, subject, score):\n",
        "  new = {subject : score}\n",
        "  subject_score.update(new)\n",
        "  return(subject_score)\n",
        "\n",
        "  pass\n",
        "\n",
        "dict = {}\n",
        "add_score(dict, 'python', 50) # => {'python' : 50}\n",
        "print(dict)\n",
        "add_score(dict, 'calculus', 60) # => {'python' : 50, 'calculus' : 60}\n",
        "print(dict)\n",
        "def calc_average_score(subject_score):\n",
        "  all_score = 0\n",
        "  for i in subject_score:\n",
        "    all_score += subject_score[i]\n",
        "  print(all_score / len(subject_score))\n",
        "  pass\n",
        "\n",
        "calc_average_score(dict)\n",
        "calc_average_score({ 'python' : 50, 'calculus' : 60 }) #=> '55.00'\n"
      ],
      "metadata": {
        "id": "LZGVVZVj3hLN",
        "outputId": "c3f867ed-00fe-4e34-fe01-909ab0735a2b",
        "colab": {
          "base_uri": "https://localhost:8080/"
        }
      },
      "execution_count": 21,
      "outputs": [
        {
          "output_type": "stream",
          "name": "stdout",
          "text": [
            "{'python': 50}\n",
            "{'python': 50, 'calculus': 60}\n",
            "55.0\n",
            "55.0\n"
          ]
        }
      ]
    },
    {
      "cell_type": "markdown",
      "source": [
        "2.\tให้นำโปรแกรมตามข้อ 1 มาขยายความสามารถให้รองรับนักศึกษาหลายคน โดยให้ refactor ฟังก์ชัน add_score ให้รับพารามิเตอร์เป็น add_score(subject_score, student, subject, score) โดย student เป็นข้อมูลของนักศึกษาเป็น string (ในที่นี้เป็น id) และ return เป็น dictionary\n",
        "\n",
        "- Input : subject_score = { }, student = '65010001', subject = 'python', score = 50\n",
        "- return : { '65010001' : { 'python' : 50 } }\n",
        "- input : subject_score = { '65010001' : { 'python' : 50 } },\n",
        "  student = '65010001', subject = ‘calculus’, score = 60\n",
        "- return : {'65010001': {'python’: 50,  'calculus', 60} }\n",
        "\n",
        "โดยหากชื่อมีข้อมูล key ใดที่มีใน dictionary อยู่แล้ว ให้ถือเป็นการ update ข้อมูลนั้น\n",
        "\n",
        "ให้ refactor ฟังก์ชัน calc_average_score โดยให้ส่งคืนเป็น dictionary ของนักศึกษาและคะแนนเฉลี่ยของนักศึกษาคนนั้น เช่น {'65010001': '55.00' }\n"
      ],
      "metadata": {
        "id": "5JcSUIBA4IDY"
      }
    },
    {
      "cell_type": "code",
      "execution_count": 92,
      "metadata": {
        "id": "QmJLbNje10SA",
        "colab": {
          "base_uri": "https://localhost:8080/"
        },
        "outputId": "0eaaa9d7-894b-4912-e126-f2ae7b4c9d59"
      },
      "outputs": [
        {
          "output_type": "stream",
          "name": "stdout",
          "text": [
            "{'65010001': {'python': 50}}\n",
            "{'65010001': {'python': 50, 'calculus': 60}}\n",
            "{'65010001': {'python': 50, 'calculus': 60}, '65010002': {'calculus': 60}}\n",
            "{'65010002': 56.666666666666664}\n"
          ]
        }
      ],
      "source": [
        "def add_score(subject_score, student, subject, score):\n",
        "    new = {subject: score}\n",
        "\n",
        "    if student not in subject_score:\n",
        "        subject_score[student] = new\n",
        "    else:\n",
        "        subject_score[student].update(new)\n",
        "\n",
        "    return subject_score\n",
        "\n",
        "dict = {}\n",
        "add_score(dict, '65010001', 'python', 50) # => {'65010001' : { 'python' : 50 } }\n",
        "print(dict)\n",
        "add_score(dict, '65010001', 'calculus', 60) # => {'65010001' : { 'python' : 50, 'calculus' : 60 }\n",
        "print(dict)\n",
        "\n",
        "def calc_average_score(subject_score):\n",
        "  all_score = 0\n",
        "  avg = {}\n",
        "  c = 0\n",
        "  for x , y in subject_score.items():\n",
        "    for j in y.values():\n",
        "      c += 1\n",
        "      all_score += j\n",
        "  new = {x : (all_score / c)}\n",
        "  avg.update(new)\n",
        "  return(avg)\n",
        "  pass\n",
        "\n",
        "print(calc_average_score(dict)) # => {'65010001': '55.00' }\n"
      ]
    },
    {
      "cell_type": "code",
      "source": [],
      "metadata": {
        "id": "8s1SlFJOdvDl"
      },
      "execution_count": null,
      "outputs": []
    },
    {
      "cell_type": "markdown",
      "source": [
        "3.\tให้เขียนฟังก์ชัน is_plusone_dictionary(d) โดยรับพารามิเตอร์ 1 ตัว เป็นข้อมูลชนิด dictionary และให้ทดสอบว่า dictionary ที่รับเข้ามาเป็น plusone dictionary หรือไม่ ผลลัพธ์ให้ return เป็น True หรือ False โดย plusone dictionary คือ dictionary ที่ key และ value จะบวก 1 ต่อกันไปเรื่อยๆ  \n",
        "\n",
        "- Input :   {1:2, 3:4, 5:6, 7:8}\n",
        "- return : True\n",
        "\n",
        "อธิบาย : เพราะ key : value ต่างกันเป็น +1 ต่อกันไป\n",
        "- Input :   {1:2, 3:10, 5:6, 7:8}\n",
        "- return : False\n",
        "\n",
        "อธิบาย : เพราะ key, value ไม่เป็นไปตามลำดับ\n"
      ],
      "metadata": {
        "id": "Fv6l6uwo6Pki"
      }
    },
    {
      "cell_type": "code",
      "source": [
        "def is_plusone_dictionary(d):\n",
        "  for a,b in d.items():\n",
        "    c = b-a\n",
        "    if c != 1:\n",
        "      return(print(False))\n",
        "  return(print(True))\n",
        "  pass\n",
        "\n",
        "is_plusone_dictionary({1:2, 3:4, 5:6, 7:8}) # => True\n",
        "is_plusone_dictionary({1:2, 3:10, 5:6, 7:8}) # => False\n",
        "\n"
      ],
      "metadata": {
        "id": "-yCKWw876aQs",
        "outputId": "e90c8468-8469-4f20-cafa-f1ddd426f788",
        "colab": {
          "base_uri": "https://localhost:8080/"
        }
      },
      "execution_count": 79,
      "outputs": [
        {
          "output_type": "stream",
          "name": "stdout",
          "text": [
            "True\n",
            "False\n"
          ]
        }
      ]
    },
    {
      "cell_type": "markdown",
      "source": [
        "4.\tเขียนฟังก์ชัน char_count(str) โดยรับพารามิเตอร์ 1 ตัว เป็นข้อมูลชนิด string และให้ส่งคืนเป็น dictionary ที่มี key เป็นตัวอักษรแต่ละตัวของ string นั้น และ value คือ จำนวนครั้งที่ตัวอักษรนั้นปรากฏใน string เช่น\n",
        "\n",
        "- Input : 'language'\n",
        "- return : {'l': 1, 'a': 2, 'n': 1, 'g': 2, 'e': 1}\n"
      ],
      "metadata": {
        "id": "zxO80QGx6mnk"
      }
    },
    {
      "cell_type": "code",
      "source": [
        "def char_count(str):\n",
        "  dic = {}\n",
        "  for i in range(len(str)):\n",
        "    c = 0\n",
        "    for j in range(len(str)):\n",
        "      if str[i] == str[j]:\n",
        "        c += 1\n",
        "        dic[str[i]] = c\n",
        "  return(dic)\n",
        "  pass\n",
        "\n",
        "print(char_count('language')) # => {'l': 1, 'a': 2, 'n': 1, 'g': 2, 'e': 1}\n",
        "\n",
        "print(char_count('awesome')) # => {'a': 1, 'e': 2, 'm': 1, 'o': 1, 'w': 1}\n",
        "\n",
        "print(char_count('me')) # => {'m': 1, 'e': 1}"
      ],
      "metadata": {
        "id": "PEu6wF5Y6rAE",
        "outputId": "20e8c9b4-7e74-4526-9bfc-0cc77d3cbadc",
        "colab": {
          "base_uri": "https://localhost:8080/"
        }
      },
      "execution_count": 76,
      "outputs": [
        {
          "output_type": "stream",
          "name": "stdout",
          "text": [
            "{'l': 1, 'a': 2, 'n': 1, 'g': 2, 'u': 1, 'e': 1}\n",
            "{'a': 1, 'w': 1, 'e': 2, 's': 1, 'o': 1, 'm': 1}\n",
            "{'m': 1, 'e': 1}\n"
          ]
        }
      ]
    },
    {
      "cell_type": "markdown",
      "source": [
        "5.\tข้อมูลต่อไปนี้แทน music album แต่ละ album เก็บใน dictionary ซึ่งมีตัวเลข id เป็น key โดยแต่ละ album ไม่จำเป็นต้องมีข้อมูลครบ\n",
        "\n",
        "\n",
        "\n",
        "```\n",
        "record_collection = {\n",
        "  2548: {\n",
        "    albumTitle: 'Slippery When Wet',\n",
        "    artist: 'Bon Jovi',\n",
        "    tracks: ['Let It Rock', 'You Give Love a Bad Name']\n",
        "  },\n",
        "  2468: {\n",
        "    albumTitle: '1999',\n",
        "    artist: 'Prince',\n",
        "    tracks: ['1999', 'Little Red Corvette']\n",
        "  },\n",
        "  1245: {\n",
        "    artist: 'Robert Palmer',\n",
        "    tracks: []\n",
        "  },\n",
        "  5439: {\n",
        "    albumTitle: 'ABBA Gold'\n",
        "  }\n",
        "```\n",
        "\n",
        "\n",
        "\n",
        "ให้เขียนฟังก์ชัน update_records โดยรับพารามิเตอร์ 4 ตัว คือ 1) dictionary record 2) id 3) property (เช่น artist หรือ tracks 4) value โดยหน้าที่ของฟังก์ชัน คือ ให้เพิ่ม/เปลี่ยน ค่า property และ value ของ album ของ id ที่ส่งค่าไปในฟังก์ชัน โดยมีรายละเอียดดังนี้\n",
        "- ฟังก์ชันจะต้องส่งคืนข้อมูล record ทั้งหมดกลับมา\n",
        "- ถ้า property ไม่ใช่ tracks และ value ไม่ใช่ empty string ให้ update หรือ set ข้อมูล property กับ value ใน album นั้น\n",
        "- ถ้า property เป็น tracks แต่ album นั้นไม่มี tracks property ให้สร้าง List ใหม่และเพิ่มข้อมูลเข้าไปใน List นั้น\n",
        "- ถ้า property เป็น tracks และ value ไม่ใช่  empty string ให้เพิ่ม value ต่อท้ายใน List ของ tracks  \n",
        "- ถ้า value เป็น empty string ให้ลบข้อมูล property นั้นออกจาก album\n",
        "\n",
        "\n"
      ],
      "metadata": {
        "id": "2YPYGtFG6v2j"
      }
    },
    {
      "cell_type": "code",
      "source": [
        "record_collection = {\n",
        "  2548: {\n",
        "    'albumTitle': 'Slippery When Wet',\n",
        "    'artist': 'Bon Jovi',\n",
        "    'tracks': ['Let It Rock', 'You Give Love a Bad Name']\n",
        "  },\n",
        "  2468: {\n",
        "    'albumTitle': '1999',\n",
        "    'artist': 'Prince',\n",
        "    'tracks': ['1999', 'Little Red Corvette']\n",
        "  },\n",
        "  1245: {\n",
        "    'artist': 'Robert Palmer',\n",
        "    'tracks': []\n",
        "  },\n",
        "  5439: {\n",
        "    'albumTitle': 'ABBA Gold'\n",
        "  }\n",
        "}\n",
        "\n",
        "def update_records(record, id, property, value):\n",
        "  if value == '':\n",
        "    record[id].pop(property)\n",
        "  else:\n",
        "     if property == \"tracks\":\n",
        "      record[id][property].append(value)\n",
        "\n",
        "     else:\n",
        "      record[id][property] = value\n",
        "\n",
        "\n",
        "  # if property == \"artist\" or property == \"albumTitle\" :\n",
        "  #   record[id][property] = value\n",
        "  # else:\n",
        "  #   if value == '':\n",
        "  #     record[id][property] = value\n",
        "  #   else:\n",
        "  #     record[id][property].append(value)\n",
        "  return record\n",
        "\n",
        "\n",
        "update_records(record_collection, 2548, 'artist', '') # ลบ artist ของ 2548\n",
        "update_records(record_collection, 2548, 'artist', 'Sting') # แก้ไข artist ของ 2548\n",
        "update_records(record_collection, 1245, 'tracks', 'wanted dead or alive') # เพิ่ม tracks ของ 1245\n",
        "update_records(record_collection, 2548, 'tracks', '') # ลบ tracks ของ 1245\n",
        "ีีupdate_records(record_collection, 5439, 'tracks', 'I Put a Spell on You') # เพิ่ม tracks ของ 5439\n",
        "ีupdate_records(record_collection, 5439, 'artist', 'ABBA') # เพิ่ม artist ของ 5439\n",
        "ีupdate_records(record_collection, 5439, 'artist', 'Chicago') # แก้ไข artist ของ 5439\n",
        "update_records(record_collection, 1245, 'tracks', 'Addicted to Love') # เพิ่ม tracks ของ 1245\n",
        "update_records(record_collection, 5439, 'albumTitle', '') # ลบ albumTitle ของ 5439\n",
        "update_records(record_collection, 5439, 'artist', \"a\") # ลบ albumTitle ของ 5439\n",
        "print(record_collection)\n",
        "\n"
      ],
      "metadata": {
        "id": "Q9T-P4hs8cqJ",
        "outputId": "fd062ed0-d8de-4c78-a1e1-6ca056bc5293",
        "colab": {
          "base_uri": "https://localhost:8080/"
        }
      },
      "execution_count": 93,
      "outputs": [
        {
          "output_type": "stream",
          "name": "stdout",
          "text": [
            "{2548: {'albumTitle': 'Slippery When Wet', 'artist': '', 'tracks': ['Let It Rock', 'You Give Love a Bad Name']}, 2468: {'albumTitle': '1999', 'artist': 'Prince', 'tracks': ['1999', 'Little Red Corvette']}, 1245: {'artist': 'Robert Palmer', 'tracks': []}, 5439: {'albumTitle': 'ABBA Gold'}}\n"
          ]
        }
      ]
    },
    {
      "cell_type": "markdown",
      "source": [],
      "metadata": {
        "id": "1RXHWWRz6mlk"
      }
    },
    {
      "cell_type": "markdown",
      "source": [
        "ให้เขียนโปรแกรม หาขนาดไฟล์แต่ละไฟล์และขนาดไฟล์รวมใน directory\n",
        "https://github.com/NextGen-AI-Camp/curriculum/blob/main/Dataset/thai-handwritten-dataset/thai-handwritten-dataset.zip\n",
        "รูปแบบ\n",
        "\tชื่อไฟล์ , ขนาดไฟล์\n"
      ],
      "metadata": {
        "id": "UxUr35EWEDd8"
      }
    },
    {
      "cell_type": "code",
      "source": [],
      "metadata": {
        "id": "ZP-9-SVeEJn6"
      },
      "execution_count": null,
      "outputs": []
    }
  ]
}